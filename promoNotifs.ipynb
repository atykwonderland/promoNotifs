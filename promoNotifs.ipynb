{
 "cells": [
  {
   "cell_type": "code",
   "execution_count": 115,
   "metadata": {},
   "outputs": [],
   "source": [
    "import pandas as pd\n",
    "from datetime import datetime, timedelta, date\n",
    "import time\n",
    "import slack\n",
    "import json\n",
    "\n",
    "def notify(key, value):\n",
    "    user = ids[key]\n",
    "    response = sc.chat_postMessage(\n",
    "        channel='#general',\n",
    "        text='Hey <@' + user + '>, please promo: ' + value + '!')\n",
    "    assert response[\"ok\"]\n",
    "    assert response[\"message\"][\"text\"] == 'Hey <@' + user + '>, please promo: ' + value + '!'\n",
    "    \n",
    "def who_to_notif(df, date):\n",
    "    datedict = df.loc[:,date].to_dict()\n",
    "    for key, value in datedict.items():\n",
    "        if value != 0:\n",
    "            notify(key, value)\n",
    "\n",
    "with open(\"slackapi.txt\", \"r\") as file:\n",
    "    secret = file.read()\n",
    "sc = slack.WebClient(secret)\n",
    "\n",
    "with open(\"slackIds.json\", \"r\") as file:\n",
    "    ids = json.load(file)\n",
    "\n",
    "oglink = 'INSERT LINK HERE'\n",
    "split_og = oglink.split('/')\n",
    "new_link = ''\n",
    "for i in range (0,6):\n",
    "    new_link += split_og[i] + '/'\n",
    "    \n",
    "df = pd.read_csv( new_link + 'export?gid=0&format=csv', parse_dates=True)\n",
    "df.drop(df.columns[[1]], axis=1, inplace=True)\n",
    "df1 = df.fillna(0)\n",
    "df1 = df1.set_index('Exec')\n",
    "df1.columns = pd.to_datetime(df1.columns, format='%m/%d/%Y') + timedelta(hours=21)\n",
    "\n",
    "zero = datetime.timedelta(0)\n",
    "i = 0\n",
    "while i<len(df1.columns):\n",
    "    diff = df1.columns[i].to_pydatetime()-date.today()\n",
    "    if diff >= zero:\n",
    "        time.sleep(diff.total_seconds())\n",
    "        who_to_notif(df1, df1.columns[i])\n",
    "    i += 1"
   ]
  }
 ],
 "metadata": {
  "kernelspec": {
   "display_name": "Python 3",
   "language": "python",
   "name": "python3"
  },
  "language_info": {
   "codemirror_mode": {
    "name": "ipython",
    "version": 3
   },
   "file_extension": ".py",
   "mimetype": "text/x-python",
   "name": "python",
   "nbconvert_exporter": "python",
   "pygments_lexer": "ipython3",
   "version": "3.6.4"
  }
 },
 "nbformat": 4,
 "nbformat_minor": 4
}
